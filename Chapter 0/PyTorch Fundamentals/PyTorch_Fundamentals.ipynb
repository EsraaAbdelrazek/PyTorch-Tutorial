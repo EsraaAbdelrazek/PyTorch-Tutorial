{
  "cells": [
    {
      "cell_type": "markdown",
      "source": [
        "# Consepts:\n",
        "\n",
        "####   Introduction to tensors\n",
        "####   Creating tensors\n",
        "####   Getting information from tensors\n",
        "####   Manipulating tensors\n",
        "####   Dealing with tensor shapes\n",
        "####   Indexing on tensors\n",
        "####   Mixing PyTorch tensors and NumPy\n",
        "####   Reproducibility\n",
        "####   Running tensors on GPU  "
      ],
      "metadata": {
        "id": "lZtiNP_KWjQ0"
      }
    },
    {
      "cell_type": "markdown",
      "source": [
        "### Importing PyTorch\n"
      ],
      "metadata": {
        "id": "8dfzGXpFXmcU"
      }
    },
    {
      "cell_type": "code",
      "execution_count": 1,
      "metadata": {
        "colab": {
          "base_uri": "https://localhost:8080/"
        },
        "id": "ManIZkqIeidP",
        "outputId": "55e60220-13ac-48ff-a9b4-bacb0b1e8f78"
      },
      "outputs": [
        {
          "output_type": "stream",
          "name": "stdout",
          "text": [
            "1.12.1+cu113\n"
          ]
        }
      ],
      "source": [
        "import torch \n",
        "print (torch.__version__)"
      ]
    },
    {
      "cell_type": "code",
      "source": [
        "! nvidia-smi"
      ],
      "metadata": {
        "colab": {
          "base_uri": "https://localhost:8080/"
        },
        "id": "viKPOQiPYDtw",
        "outputId": "e13e3117-21e9-45ef-f53f-003250685099"
      },
      "execution_count": 2,
      "outputs": [
        {
          "output_type": "stream",
          "name": "stdout",
          "text": [
            "Mon Dec  5 23:49:46 2022       \n",
            "+-----------------------------------------------------------------------------+\n",
            "| NVIDIA-SMI 460.32.03    Driver Version: 460.32.03    CUDA Version: 11.2     |\n",
            "|-------------------------------+----------------------+----------------------+\n",
            "| GPU  Name        Persistence-M| Bus-Id        Disp.A | Volatile Uncorr. ECC |\n",
            "| Fan  Temp  Perf  Pwr:Usage/Cap|         Memory-Usage | GPU-Util  Compute M. |\n",
            "|                               |                      |               MIG M. |\n",
            "|===============================+======================+======================|\n",
            "|   0  Tesla T4            Off  | 00000000:00:04.0 Off |                    0 |\n",
            "| N/A   50C    P0    28W /  70W |      0MiB / 15109MiB |      0%      Default |\n",
            "|                               |                      |                  N/A |\n",
            "+-------------------------------+----------------------+----------------------+\n",
            "                                                                               \n",
            "+-----------------------------------------------------------------------------+\n",
            "| Processes:                                                                  |\n",
            "|  GPU   GI   CI        PID   Type   Process name                  GPU Memory |\n",
            "|        ID   ID                                                   Usage      |\n",
            "|=============================================================================|\n",
            "|  No running processes found                                                 |\n",
            "+-----------------------------------------------------------------------------+\n"
          ]
        }
      ]
    },
    {
      "cell_type": "markdown",
      "source": [
        "###  Introduction to Tensor \n"
      ],
      "metadata": {
        "id": "Dl1rH-RGXxTF"
      }
    },
    {
      "cell_type": "code",
      "execution_count": 3,
      "metadata": {
        "id": "oBVbXe0o-Rk6",
        "colab": {
          "base_uri": "https://localhost:8080/"
        },
        "outputId": "424178dc-ef05-46ad-c47d-b817d0ce5cda"
      },
      "outputs": [
        {
          "output_type": "stream",
          "name": "stdout",
          "text": [
            "tensor(7)\n",
            "0\n"
          ]
        }
      ],
      "source": [
        "# Scalar\n",
        "scalar = torch.tensor(7)\n",
        "print(scalar)\n",
        "# we can check the dimensions of a tensor using ndam\n",
        "print (scalar.ndim)"
      ]
    },
    {
      "cell_type": "code",
      "source": [
        "# retrieving the number from the tensor\n",
        "scalar.item()  #only works with one-element tensors"
      ],
      "metadata": {
        "colab": {
          "base_uri": "https://localhost:8080/"
        },
        "id": "tDRY2_s0Wg2j",
        "outputId": "124daed6-5939-42c1-85e6-051744e04a22"
      },
      "execution_count": 4,
      "outputs": [
        {
          "output_type": "execute_result",
          "data": {
            "text/plain": [
              "7"
            ]
          },
          "metadata": {},
          "execution_count": 4
        }
      ]
    },
    {
      "cell_type": "code",
      "source": [
        "# A vector is a single dimension tensor but can contain many numbers.\n",
        "vector = torch.tensor([7, 7])\n",
        "print(vector)\n",
        "print(vector.ndim)"
      ],
      "metadata": {
        "colab": {
          "base_uri": "https://localhost:8080/"
        },
        "id": "AXadWUxHWhEU",
        "outputId": "096a44f9-0373-419d-d6e2-86d7565f9ef2"
      },
      "execution_count": 5,
      "outputs": [
        {
          "output_type": "stream",
          "name": "stdout",
          "text": [
            "tensor([7, 7])\n",
            "1\n"
          ]
        }
      ]
    },
    {
      "cell_type": "code",
      "source": [
        "# Check shape of vector\n",
        "vector.shape"
      ],
      "metadata": {
        "colab": {
          "base_uri": "https://localhost:8080/"
        },
        "id": "vL44GH7AWhII",
        "outputId": "e8587818-a7e4-4911-9ea2-76577281c7c2"
      },
      "execution_count": 6,
      "outputs": [
        {
          "output_type": "execute_result",
          "data": {
            "text/plain": [
              "torch.Size([2])"
            ]
          },
          "metadata": {},
          "execution_count": 6
        }
      ]
    },
    {
      "cell_type": "code",
      "source": [
        "# matrix, a set of numbers arranged in rows and columns\n",
        "\n",
        "matrix = torch.tensor([[7, 8], \n",
        "                       [9, 10]])\n",
        "print(matrix)\n",
        "print(matrix.ndim)\n",
        "print (matrix.shape)\n",
        "#print(matrix.size())"
      ],
      "metadata": {
        "colab": {
          "base_uri": "https://localhost:8080/"
        },
        "id": "eE2HOeAHWhLA",
        "outputId": "609c620d-ed67-4221-d51e-315d9f8748ac"
      },
      "execution_count": 7,
      "outputs": [
        {
          "output_type": "stream",
          "name": "stdout",
          "text": [
            "tensor([[ 7,  8],\n",
            "        [ 9, 10]])\n",
            "2\n",
            "torch.Size([2, 2])\n"
          ]
        }
      ]
    },
    {
      "cell_type": "code",
      "source": [
        "# Tensor\n",
        "tensor = torch.tensor([[[1, 2, 3],\n",
        "                        [3, 6, 9],\n",
        "                        [2, 4, 5]]])\n",
        "tensor\n",
        "print(tensor.ndim)\n",
        "print(tensor.shape)"
      ],
      "metadata": {
        "colab": {
          "base_uri": "https://localhost:8080/"
        },
        "id": "uQgu0x99abWE",
        "outputId": "e5046abc-1b32-4b49-e2b4-27953179e16a"
      },
      "execution_count": 8,
      "outputs": [
        {
          "output_type": "stream",
          "name": "stdout",
          "text": [
            "3\n",
            "torch.Size([1, 3, 3])\n"
          ]
        }
      ]
    },
    {
      "cell_type": "markdown",
      "source": [
        "### Random tensors"
      ],
      "metadata": {
        "id": "wAlnx8nXc-YV"
      }
    },
    {
      "cell_type": "code",
      "source": [
        "random_tensor = torch.rand(size=(3, 4))\n",
        "print(random_tensor)\n"
      ],
      "metadata": {
        "colab": {
          "base_uri": "https://localhost:8080/"
        },
        "id": "lkrWKHu2bOhv",
        "outputId": "d6633d16-f4fe-44f5-ee4e-63801d33e6aa"
      },
      "execution_count": 9,
      "outputs": [
        {
          "output_type": "stream",
          "name": "stdout",
          "text": [
            "tensor([[0.4969, 0.9305, 0.9172, 0.7672],\n",
            "        [0.4393, 0.4712, 0.0407, 0.4733],\n",
            "        [0.8335, 0.7477, 0.7032, 0.3831]])\n"
          ]
        }
      ]
    },
    {
      "cell_type": "code",
      "source": [
        "print(random_tensor.dtype)\n",
        "print(random_tensor.ndim)"
      ],
      "metadata": {
        "colab": {
          "base_uri": "https://localhost:8080/"
        },
        "id": "hzVbuN3jdKw9",
        "outputId": "8d3d2d4b-5b01-45b7-d4df-1a47839c5df0"
      },
      "execution_count": 10,
      "outputs": [
        {
          "output_type": "stream",
          "name": "stdout",
          "text": [
            "torch.float32\n",
            "2\n"
          ]
        }
      ]
    },
    {
      "cell_type": "markdown",
      "source": [
        "### Zeros and ones"
      ],
      "metadata": {
        "id": "nY_fZlmGdsly"
      }
    },
    {
      "cell_type": "code",
      "source": [
        "zeros = torch.zeros(size=(3, 4))\n",
        "print(zeros)\n",
        "zeros.dtype"
      ],
      "metadata": {
        "colab": {
          "base_uri": "https://localhost:8080/"
        },
        "id": "M5Y6yAJldpGO",
        "outputId": "84aa55d3-3440-44dc-bd00-006f9ec089b3"
      },
      "execution_count": 11,
      "outputs": [
        {
          "output_type": "stream",
          "name": "stdout",
          "text": [
            "tensor([[0., 0., 0., 0.],\n",
            "        [0., 0., 0., 0.],\n",
            "        [0., 0., 0., 0.]])\n"
          ]
        },
        {
          "output_type": "execute_result",
          "data": {
            "text/plain": [
              "torch.float32"
            ]
          },
          "metadata": {},
          "execution_count": 11
        }
      ]
    },
    {
      "cell_type": "code",
      "source": [
        "ones = torch.ones(size=(3, 4))\n",
        "print(ones)\n"
      ],
      "metadata": {
        "colab": {
          "base_uri": "https://localhost:8080/"
        },
        "id": "o1sH8qmWeD-4",
        "outputId": "84ad7a36-2bc5-48c7-a0c2-21d3b2367d45"
      },
      "execution_count": 12,
      "outputs": [
        {
          "output_type": "stream",
          "name": "stdout",
          "text": [
            "tensor([[1., 1., 1., 1.],\n",
            "        [1., 1., 1., 1.],\n",
            "        [1., 1., 1., 1.]])\n"
          ]
        }
      ]
    },
    {
      "cell_type": "markdown",
      "source": [
        "### Creating a range"
      ],
      "metadata": {
        "id": "PsuYxh33erlc"
      }
    },
    {
      "cell_type": "code",
      "source": [
        "# using torch.arange(start, end, step)\n",
        "x = torch.range(0 , 20 , 2)\n",
        "x"
      ],
      "metadata": {
        "colab": {
          "base_uri": "https://localhost:8080/"
        },
        "id": "75yRRS5OeMWG",
        "outputId": "8493c7ac-59d4-4f7c-c211-0261ec56103f"
      },
      "execution_count": 13,
      "outputs": [
        {
          "output_type": "stream",
          "name": "stderr",
          "text": [
            "<ipython-input-13-db7250a4e510>:2: UserWarning: torch.range is deprecated and will be removed in a future release because its behavior is inconsistent with Python's range builtin. Instead, use torch.arange, which produces values in [start, end).\n",
            "  x = torch.range(0 , 20 , 2)\n"
          ]
        },
        {
          "output_type": "execute_result",
          "data": {
            "text/plain": [
              "tensor([ 0.,  2.,  4.,  6.,  8., 10., 12., 14., 16., 18., 20.])"
            ]
          },
          "metadata": {},
          "execution_count": 13
        }
      ]
    },
    {
      "cell_type": "code",
      "source": [
        "y = torch.arange(0 , 20 , 2)\n",
        "y"
      ],
      "metadata": {
        "colab": {
          "base_uri": "https://localhost:8080/"
        },
        "id": "2Rv_DCHffdgv",
        "outputId": "ce7d98df-cead-4b23-a4e7-99670eb02d8d"
      },
      "execution_count": 14,
      "outputs": [
        {
          "output_type": "execute_result",
          "data": {
            "text/plain": [
              "tensor([ 0,  2,  4,  6,  8, 10, 12, 14, 16, 18])"
            ]
          },
          "metadata": {},
          "execution_count": 14
        }
      ]
    },
    {
      "cell_type": "code",
      "source": [
        "zeros = torch.zeros_like(x)\n",
        "zeros"
      ],
      "metadata": {
        "colab": {
          "base_uri": "https://localhost:8080/"
        },
        "id": "drdbJJT5ey4K",
        "outputId": "284f9d2e-77a7-4569-f344-7444188824aa"
      },
      "execution_count": 15,
      "outputs": [
        {
          "output_type": "execute_result",
          "data": {
            "text/plain": [
              "tensor([0., 0., 0., 0., 0., 0., 0., 0., 0., 0., 0.])"
            ]
          },
          "metadata": {},
          "execution_count": 15
        }
      ]
    },
    {
      "cell_type": "markdown",
      "source": [
        "### Manipulating tensors (tensor operations)"
      ],
      "metadata": {
        "id": "ROCzpEWrf-x-"
      }
    },
    {
      "cell_type": "code",
      "source": [
        "tensor = torch.tensor([1, 2, 3])\n",
        "print(tensor + 10)"
      ],
      "metadata": {
        "colab": {
          "base_uri": "https://localhost:8080/"
        },
        "id": "HKJM-fWTfB38",
        "outputId": "3eac0400-53bc-4cc5-da93-27638774b964"
      },
      "execution_count": 16,
      "outputs": [
        {
          "output_type": "stream",
          "name": "stdout",
          "text": [
            "tensor([11, 12, 13])\n"
          ]
        }
      ]
    },
    {
      "cell_type": "code",
      "source": [
        "tensor * 10 "
      ],
      "metadata": {
        "colab": {
          "base_uri": "https://localhost:8080/"
        },
        "id": "kdZJfozPheOK",
        "outputId": "5d2ccd23-4a11-40c4-c210-868619b61156"
      },
      "execution_count": 17,
      "outputs": [
        {
          "output_type": "execute_result",
          "data": {
            "text/plain": [
              "tensor([10, 20, 30])"
            ]
          },
          "metadata": {},
          "execution_count": 17
        }
      ]
    },
    {
      "cell_type": "code",
      "source": [
        "tensor - 10 "
      ],
      "metadata": {
        "colab": {
          "base_uri": "https://localhost:8080/"
        },
        "id": "CkLafyKYhgtc",
        "outputId": "f3f20f23-7e99-43fe-9dab-6d120c232de8"
      },
      "execution_count": 18,
      "outputs": [
        {
          "output_type": "execute_result",
          "data": {
            "text/plain": [
              "tensor([-9, -8, -7])"
            ]
          },
          "metadata": {},
          "execution_count": 18
        }
      ]
    },
    {
      "cell_type": "code",
      "source": [
        "# Element-wise matrix multiplication\n",
        "tensor * tensor "
      ],
      "metadata": {
        "colab": {
          "base_uri": "https://localhost:8080/"
        },
        "id": "zQnfaBKnhnfh",
        "outputId": "32b798df-944d-4187-dd8a-db333d89cff1"
      },
      "execution_count": 19,
      "outputs": [
        {
          "output_type": "execute_result",
          "data": {
            "text/plain": [
              "tensor([1, 4, 9])"
            ]
          },
          "metadata": {},
          "execution_count": 19
        }
      ]
    },
    {
      "cell_type": "code",
      "source": [
        "# Matrix multiplication --> dot prod.\n",
        "print (tensor @ tensor )\n",
        "print(torch.matmul(tensor, tensor))"
      ],
      "metadata": {
        "colab": {
          "base_uri": "https://localhost:8080/"
        },
        "id": "gvVEc1TEh5oB",
        "outputId": "876e52ac-ee8a-440c-b083-b8222199d4b1"
      },
      "execution_count": 20,
      "outputs": [
        {
          "output_type": "stream",
          "name": "stdout",
          "text": [
            "tensor(14)\n",
            "tensor(14)\n"
          ]
        }
      ]
    },
    {
      "cell_type": "code",
      "source": [
        "tensor_A = torch.tensor([[1., 2.],\n",
        "                   [3., 4.],\n",
        "                   [5., 6.]])\n"
      ],
      "metadata": {
        "id": "q7pqjsPXh-Nd"
      },
      "execution_count": 21,
      "outputs": []
    },
    {
      "cell_type": "code",
      "source": [
        "tensor_B = tensor_A\n",
        "tensor_B"
      ],
      "metadata": {
        "colab": {
          "base_uri": "https://localhost:8080/"
        },
        "id": "iUq14HdZisDG",
        "outputId": "e57922f7-b5db-4f94-b4d5-8634b2b892de"
      },
      "execution_count": 22,
      "outputs": [
        {
          "output_type": "execute_result",
          "data": {
            "text/plain": [
              "tensor([[1., 2.],\n",
              "        [3., 4.],\n",
              "        [5., 6.]])"
            ]
          },
          "metadata": {},
          "execution_count": 22
        }
      ]
    },
    {
      "cell_type": "markdown",
      "source": [
        "\n",
        "### Finding the min, max, mean, sum"
      ],
      "metadata": {
        "id": "3GJj0Q1IjLhm"
      }
    },
    {
      "cell_type": "code",
      "source": [
        "tensor = torch.arange(0, 100, 3)"
      ],
      "metadata": {
        "id": "F9IWg5-xjK2t"
      },
      "execution_count": 23,
      "outputs": []
    },
    {
      "cell_type": "code",
      "source": [
        "print (\"tensor min\"+ str(tensor.min()))\n",
        "print (\"tensor max\"+ str(tensor.max()))\n",
        "print (\"tensor mean\"+str(tensor.type(torch.float32).mean()))\n",
        "print (\"tensor sum\"+str(tensor.sum()))\n",
        "\n"
      ],
      "metadata": {
        "colab": {
          "base_uri": "https://localhost:8080/"
        },
        "id": "Uym7sW2Gi5YT",
        "outputId": "9fbfcc32-0fce-4f4c-aa04-a65bc8d6c9af"
      },
      "execution_count": 24,
      "outputs": [
        {
          "output_type": "stream",
          "name": "stdout",
          "text": [
            "tensor mintensor(0)\n",
            "tensor maxtensor(99)\n",
            "tensor meantensor(49.5000)\n",
            "tensor sumtensor(1683)\n"
          ]
        }
      ]
    },
    {
      "cell_type": "code",
      "source": [
        "print(tensor.argmin())\n",
        "print(tensor.argmax())\n"
      ],
      "metadata": {
        "colab": {
          "base_uri": "https://localhost:8080/"
        },
        "id": "PVtiOfnblk5h",
        "outputId": "6e505da4-113a-4a2c-fae6-9fa558e8c401"
      },
      "execution_count": 25,
      "outputs": [
        {
          "output_type": "stream",
          "name": "stdout",
          "text": [
            "tensor(0)\n",
            "tensor(33)\n"
          ]
        }
      ]
    },
    {
      "cell_type": "markdown",
      "source": [
        "### Reshaping, stacking, squeezing and unsqueezing"
      ],
      "metadata": {
        "id": "WXYf0muUnRL0"
      }
    },
    {
      "cell_type": "code",
      "source": [
        "x = torch.arange(1, 100 , 10 )\n",
        "x.reshape(2,5)\n"
      ],
      "metadata": {
        "colab": {
          "base_uri": "https://localhost:8080/"
        },
        "id": "DaVZydNmmvgL",
        "outputId": "74ba878c-b04a-4c80-b714-14b9054cc6d5"
      },
      "execution_count": 26,
      "outputs": [
        {
          "output_type": "execute_result",
          "data": {
            "text/plain": [
              "tensor([[ 1, 11, 21, 31, 41],\n",
              "        [51, 61, 71, 81, 91]])"
            ]
          },
          "metadata": {},
          "execution_count": 26
        }
      ]
    },
    {
      "cell_type": "code",
      "source": [
        "x.view(1, 10)"
      ],
      "metadata": {
        "colab": {
          "base_uri": "https://localhost:8080/"
        },
        "id": "OijqswAyoSgO",
        "outputId": "a2382bd0-cdef-408a-9b00-60ad97baef4a"
      },
      "execution_count": 27,
      "outputs": [
        {
          "output_type": "execute_result",
          "data": {
            "text/plain": [
              "tensor([[ 1, 11, 21, 31, 41, 51, 61, 71, 81, 91]])"
            ]
          },
          "metadata": {},
          "execution_count": 27
        }
      ]
    },
    {
      "cell_type": "code",
      "source": [
        "x = torch.rand(size=(3, 1, 4))\n",
        "print (x) \n",
        "print(x.permute(1,2 , 0))"
      ],
      "metadata": {
        "colab": {
          "base_uri": "https://localhost:8080/"
        },
        "id": "ydZLxYZ-ojDK",
        "outputId": "4fc364df-c97e-4a65-bdac-a3f22282a461"
      },
      "execution_count": 28,
      "outputs": [
        {
          "output_type": "stream",
          "name": "stdout",
          "text": [
            "tensor([[[0.6598, 0.5460, 0.2410, 0.2808]],\n",
            "\n",
            "        [[0.2423, 0.3486, 0.6381, 0.1282]],\n",
            "\n",
            "        [[0.3688, 0.3841, 0.7696, 0.8996]]])\n",
            "tensor([[[0.6598, 0.2423, 0.3688],\n",
            "         [0.5460, 0.3486, 0.3841],\n",
            "         [0.2410, 0.6381, 0.7696],\n",
            "         [0.2808, 0.1282, 0.8996]]])\n"
          ]
        }
      ]
    },
    {
      "cell_type": "markdown",
      "source": [
        "### PyTorch tensors & NumPy"
      ],
      "metadata": {
        "id": "KVhs1wBZqFh0"
      }
    },
    {
      "cell_type": "code",
      "source": [
        "# NumPy array to tensor\n",
        "import torch\n",
        "import numpy as np\n",
        "array = np.arange(1.0, 8.0)\n",
        "tensor = torch.from_numpy(array)\n",
        "array, tensor"
      ],
      "metadata": {
        "colab": {
          "base_uri": "https://localhost:8080/"
        },
        "id": "8K5D70FrpVsw",
        "outputId": "deaf78d4-470e-4fbf-da38-cd4250837bab"
      },
      "execution_count": 29,
      "outputs": [
        {
          "output_type": "execute_result",
          "data": {
            "text/plain": [
              "(array([1., 2., 3., 4., 5., 6., 7.]),\n",
              " tensor([1., 2., 3., 4., 5., 6., 7.], dtype=torch.float64))"
            ]
          },
          "metadata": {},
          "execution_count": 29
        }
      ]
    },
    {
      "cell_type": "markdown",
      "source": [
        "### Getting PyTorch to run on the GPU"
      ],
      "metadata": {
        "id": "x-Euq1FyqqlF"
      }
    },
    {
      "cell_type": "code",
      "source": [
        "# Check for GPU\n",
        "import torch\n",
        "torch.cuda.is_available()"
      ],
      "metadata": {
        "colab": {
          "base_uri": "https://localhost:8080/"
        },
        "id": "mC3G_t4CqZHf",
        "outputId": "fc59eefa-1bdb-4e46-e13e-bc09fe4f062d"
      },
      "execution_count": 30,
      "outputs": [
        {
          "output_type": "execute_result",
          "data": {
            "text/plain": [
              "True"
            ]
          },
          "metadata": {},
          "execution_count": 30
        }
      ]
    },
    {
      "cell_type": "code",
      "source": [
        "\n",
        "\n",
        "# Set device type\n",
        "device = \"cuda\" if torch.cuda.is_available() else \"cpu\"\n",
        "device\n",
        "\n",
        "\n",
        "\n",
        "     \n"
      ],
      "metadata": {
        "colab": {
          "base_uri": "https://localhost:8080/",
          "height": 35
        },
        "id": "g9pRJQxkqu80",
        "outputId": "b84d021c-50a5-4bc5-d530-c4a5ee8f4c60"
      },
      "execution_count": 31,
      "outputs": [
        {
          "output_type": "execute_result",
          "data": {
            "text/plain": [
              "'cuda'"
            ],
            "application/vnd.google.colaboratory.intrinsic+json": {
              "type": "string"
            }
          },
          "metadata": {},
          "execution_count": 31
        }
      ]
    },
    {
      "cell_type": "code",
      "source": [
        "torch.cuda.device_count()"
      ],
      "metadata": {
        "colab": {
          "base_uri": "https://localhost:8080/"
        },
        "id": "BloRb2CWqz0U",
        "outputId": "1420a22c-93ff-4d18-b1eb-8c083c48ce1a"
      },
      "execution_count": 32,
      "outputs": [
        {
          "output_type": "execute_result",
          "data": {
            "text/plain": [
              "1"
            ]
          },
          "metadata": {},
          "execution_count": 32
        }
      ]
    },
    {
      "cell_type": "markdown",
      "source": [
        "### Putting tensors (and models) on the GPU"
      ],
      "metadata": {
        "id": "sa9Rojo2q-LR"
      }
    },
    {
      "cell_type": "code",
      "source": [
        "# Putting a tensor on GPU using to(device)  returns a copy of that tensor\n",
        "tensor = torch.tensor([1, 2, 3])\n",
        "\n",
        "# Tensor on CPU\n",
        "print(tensor, tensor.device)\n",
        "\n",
        "# Move tensor to GPU (if available)\n",
        "tensor = tensor.to(device)\n",
        "tensor"
      ],
      "metadata": {
        "colab": {
          "base_uri": "https://localhost:8080/"
        },
        "id": "0izJZGm8q3rf",
        "outputId": "ccc12356-1424-4011-a347-fa4450383276"
      },
      "execution_count": 33,
      "outputs": [
        {
          "output_type": "stream",
          "name": "stdout",
          "text": [
            "tensor([1, 2, 3]) cpu\n"
          ]
        },
        {
          "output_type": "execute_result",
          "data": {
            "text/plain": [
              "tensor([1, 2, 3], device='cuda:0')"
            ]
          },
          "metadata": {},
          "execution_count": 33
        }
      ]
    },
    {
      "cell_type": "code",
      "source": [],
      "metadata": {
        "id": "qwxWF3fKr4pT"
      },
      "execution_count": 33,
      "outputs": []
    }
  ],
  "metadata": {
    "accelerator": "GPU",
    "colab": {
      "provenance": []
    },
    "gpuClass": "standard",
    "kernelspec": {
      "display_name": "Python 3",
      "name": "python3"
    },
    "language_info": {
      "name": "python"
    }
  },
  "nbformat": 4,
  "nbformat_minor": 0
}